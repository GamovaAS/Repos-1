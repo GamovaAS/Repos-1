{
  "nbformat": 4,
  "nbformat_minor": 0,
  "metadata": {
    "colab": {
      "name": "Untitled1.ipynb",
      "version": "0.3.2",
      "provenance": [],
      "collapsed_sections": [],
      "include_colab_link": true
    },
    "kernelspec": {
      "name": "python3",
      "display_name": "Python 3"
    }
  },
  "cells": [
    {
      "cell_type": "markdown",
      "metadata": {
        "id": "view-in-github",
        "colab_type": "text"
      },
      "source": [
        "<a href=\"https://colab.research.google.com/github/GamovaAS/Var-3/blob/master/Var-3.ipynb\" target=\"_parent\"><img src=\"https://colab.research.google.com/assets/colab-badge.svg\" alt=\"Open In Colab\"/></a>"
      ]
    },
    {
      "metadata": {
        "id": "IK-CxguruyQi",
        "colab_type": "code",
        "outputId": "a3c6714a-6b50-46ec-a126-4ac2aa0614af",
        "colab": {
          "base_uri": "https://localhost:8080/",
          "height": 347
        }
      },
      "cell_type": "code",
      "source": [
        "#Задача №1. Страница 172 №3.3\n",
        "import numpy as np\n",
        "import matplotlib.pyplot as plt\n",
        "\n",
        "def x(t):\n",
        "  return t**2\n",
        "def y(t):\n",
        "  return t+4\n",
        "t=np.arange(-5,5,0.01) #Массив значений аргумента\n",
        "plt.plot(x(t),y(t)) #Построение графика\n",
        "plt.grid(True) #Сетка\n",
        "plt.show() #Показать график"
      ],
      "execution_count": 0,
      "outputs": [
        {
          "output_type": "display_data",
          "data": {
            "image/png": "[encoded data removed]",
            "text/plain": [
              "<matplotlib.figure.Figure at 0x7f43ad262710>"
            ]
          },
          "metadata": {
            "tags": []
          }
        }
      ]
    },
    {
      "metadata": {
        "id": "-C_l-tExS2ZQ",
        "colab_type": "code",
        "outputId": "78cabe66-b7b5-4287-a8f2-0ef6330db3ac",
        "colab": {
          "base_uri": "https://localhost:8080/",
          "height": 68
        }
      },
      "cell_type": "code",
      "source": [
        "#Задача №2. Страница 189 №3.3\n",
        "import numpy as np\n",
        "import matplotlib.pyplot as plt\n",
        "\n",
        "# y = kx + b - уравнение прямой\n",
        "x1 = -2\n",
        "y1 =  6\n",
        "x2 =  3\n",
        "y2 = -1\n",
        "\n",
        "# k = G / H, где G = y1 - y2, H = x1 - x2\n",
        "G = y1 - y2 # = 7\n",
        "H = x1 - x2 # = -5\n",
        "\n",
        "if H < 0:\n",
        "  G = -1* G\n",
        "  H = -1* H\n",
        "\n",
        "# b = F/H, где F = y1*H - x1*G\n",
        "F = y1*H - x1*G # = 16\n",
        "\n",
        "# H*y + (-1 * G) *x + (-1 * F) = 0\n",
        "G = -1 *G\n",
        "F = -1 * F\n",
        "print (\"Уравнение прямой М1M2: \", H,\"y + \", G, \"x + \", F, \" = 0\")\n",
        "\n",
        "# M0 (-3, -1);\n",
        "x0 = -3\n",
        "y0 = -1\n",
        "\n",
        "# a)параллельно прямой М1M2\n",
        "# ax + by + c = 0 => c = -ax - by =>  -ax = -1.4*x0 = 1.4*3  -by0 = 1*1\n",
        "C1 = -G*x0-H*y0 \n",
        "print (\"Уравнение параллельной к прямой М1M2: \", H,\"y + \", G, \"x + \", C1, \" = 0\")\n",
        "\n",
        "# б)перпендикулярно прямой М1M2\n",
        "# у - y0 = (-1/k)*(x-x0)\n",
        "# k = G/H => 1/k = H/G => -1/K = -1* (H/G)\n",
        "if H < 0:\n",
        "  H = -1* H\n",
        "if G < 0:\n",
        "  G = -1* G\n",
        "# у - y0 = (H/G)*(x-x0)\n",
        "# G*(у - y0) = H*(x-x0)\n",
        "# G*у - H*x + H*x0 - G*y0 = 0\n",
        "C2 = H*x0 - G*y0\n",
        "print (\"Уравнение перпендикулярной к прямой М1M2: \",G,\"y + \", -H, \"x + \", C2, \" = 0\")"
      ],
      "execution_count": 0,
      "outputs": [
        {
          "output_type": "stream",
          "text": [
            "Уравнение прямой М1M2:  5 y +  7 x +  -16  = 0\n",
            "Уравнение параллельной к прямой М1M2:  5 y +  7 x +  26  = 0\n",
            "Уравнение перпендикулярной к прямой М1M2:  7 y +  -5 x +  -8  = 0\n"
          ],
          "name": "stdout"
        }
      ]
    },
    {
      "metadata": {
        "id": "Lbzlcur-RMUL",
        "colab_type": "code",
        "outputId": "6f703d58-0300-4d22-e0bf-741ac62c8a87",
        "colab": {
          "base_uri": "https://localhost:8080/",
          "height": 265
        }
      },
      "cell_type": "code",
      "source": [
        "#Задача №4. Страница 241 №3.1 пункт 3\n",
        "from matplotlib.patches import Ellipse \n",
        "import matplotlib as mpl \n",
        "%matplotlib inline \n",
        "from matplotlib import pyplot as plt \n",
        "from math import sqrt, exp \n",
        "\n",
        "#Центр элипса \n",
        "mean = [ 0 , 0] \n",
        "#Полуоси \n",
        "width1 = 4\n",
        "height1 = 9 \n",
        "ell = mpl.patches.Ellipse(xy=mean, width=width1*2, height=height1*2) \n",
        "fig, ax = plt.subplots() \n",
        "\n",
        "ax.add_patch(ell) \n",
        "ax.set_aspect('equal') \n",
        "ax.autoscale() \n",
        "plt.show()\n"
      ],
      "execution_count": 0,
      "outputs": [
        {
          "output_type": "display_data",
          "data": {
            "image/png": "[encoded data removed]",
            "text/plain": [
              "<matplotlib.figure.Figure at 0x7fbe6299a2b0>"
            ]
          },
          "metadata": {
            "tags": []
          }
        }
      ]
    },
    {
      "metadata": {
        "id": "TPbwZGfe21OJ",
        "colab_type": "code",
        "colab": {}
      },
      "cell_type": "code",
      "source": [
        ""
      ],
      "execution_count": 0,
      "outputs": []
    }
  ]
}